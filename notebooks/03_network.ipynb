{
 "cells": [
  {
   "cell_type": "code",
   "execution_count": 1,
   "metadata": {
    "dotnet_interactive": {
     "language": "fsharp"
    },
    "polyglot_notebook": {
     "kernelName": "fsharp"
    }
   },
   "outputs": [
    {
     "data": {
      "text/html": [
       "<div><div></div><div></div><div><strong>Installed Packages</strong><ul><li><span>Cytoscape.NET.Interactive, 0.2.0</span></li><li><span>FSharp.Data, 6.3.0</span></li><li><span>FSharp.Stats, 0.5.1-preview.1</span></li><li><span>Plotly.NET.Interactive, 4.2.1</span></li></ul></div></div>"
      ]
     },
     "metadata": {},
     "output_type": "display_data"
    },
    {
     "data": {
      "text/plain": [
       "Loading extensions from `C:\\Users\\bvenn\\.nuget\\packages\\plotly.net.interactive\\4.2.1\\interactive-extensions\\dotnet\\Plotly.NET.Interactive.dll`"
      ]
     },
     "metadata": {},
     "output_type": "display_data"
    },
    {
     "data": {
      "text/plain": [
       "Loading extensions from `C:\\Users\\bvenn\\.nuget\\packages\\cytoscape.net.interactive\\0.2.0\\interactive-extensions\\dotnet\\Cytoscape.NET.Interactive.dll`"
      ]
     },
     "metadata": {},
     "output_type": "display_data"
    }
   ],
   "source": [
    "// nuget references\n",
    "#r \"nuget: FSharp.Stats, 0.5.1-preview.1\"\n",
    "#r \"nuget: Plotly.NET.Interactive, 4.2.1\"\n",
    "#r \"nuget: FSharp.Data, 6.3.0\"\n",
    "#r \"nuget: Cytoscape.NET.Interactive, 0.2.0\"\n",
    "\n",
    "open FSharp.Stats\n",
    "open Plotly.NET\n",
    "open Plotly.NET.StyleParam\n",
    "open Plotly.NET.LayoutObjects\n",
    "open FSharp.Data\n",
    "open Cytoscape.NET\n",
    "open System\n",
    "\n",
    "\n",
    "//FSharp.Stats.ServiceLocator.setEnvironmentPathVariable (@\"C:\\Users\\bvenn\\source\\repos\\FSharp.Stats\\lib\")\n",
    "//FSharp.Stats.Algebra.LinearAlgebra.Service()\n",
    "\n",
    "//axis styling extension module\n",
    "module Chart = \n",
    "    let myAxis name = LinearAxis.init(Title=Title.init name,Mirror=StyleParam.Mirror.All,Ticks=StyleParam.TickOptions.Inside,ShowGrid=false,ShowLine=true)\n",
    "    let withAxisTitles x y chart = \n",
    "        chart \n",
    "        |> Chart.withTemplate ChartTemplates.lightMirrored\n",
    "        |> Chart.withXAxis (myAxis x) \n",
    "        |> Chart.withYAxis (myAxis y)\n",
    "\n",
    "type Category =\n",
    "    | Beer\n",
    "    | Beverage\n",
    "    | Coffee\n",
    "    | Other\n",
    "    with \n",
    "        static member FromString (s: string) =\n",
    "            match s with\n",
    "            | \"Beer\" -> Beer\n",
    "            | \"Beverage\" -> Beverage\n",
    "            | \"Coffee\" -> Coffee\n",
    "            | _ -> Other\n",
    "\n",
    "type Order = {\n",
    "    DateTime    : System.DateTime\n",
    "    Name        : string\n",
    "    Gender      : char\n",
    "    Product     : string\n",
    "    Price       : float\n",
    "    Department  : string\n",
    "    Category    : Category\n",
    "    Amount      : int\n",
    "    } with\n",
    "        static member Create time (name: string) gender product price department category amount = {\n",
    "            DateTime  = time\n",
    "            Name      = name\n",
    "            Gender    = gender\n",
    "            Product   = product\n",
    "            Price     = price\n",
    "            Department= department\n",
    "            Category  = category\n",
    "            Amount    = amount\n",
    "            }\n",
    "\n",
    "let data = \n",
    "    let read =\n",
    "        CsvFile\n",
    "            //.Load(@\"..\\data\\coffeedata.txt\")\n",
    "            .Load(@\"C:\\Users\\bvenn\\source\\repos\\brewing-discoveries-workshop\\data\\coffeedata.txt\")\n",
    "            .Cache()\n",
    "    read.Rows\n",
    "    |> Seq.map (fun row -> \n",
    "        Order.Create\n",
    "            (System.DateTime.ParseExact((row.GetColumn \"DateTime\"),\"dd/MM/yyyy HH:mm:ss\",null))\n",
    "            (row.GetColumn \"Name\")\n",
    "            (row.GetColumn \"Gender\" |> char)\n",
    "            (row.GetColumn \"Product\")\n",
    "            (row.GetColumn \"Price\" |> float) \n",
    "            (row.GetColumn \"Department\")\n",
    "            ((row.GetColumn \"Category\") |> Category.FromString)\n",
    "            (row.GetColumn \"Amount\" |> int)\n",
    "        )\n",
    "    |> Array.ofSeq\n",
    "\n",
    "let getDepartmentColor (department: string) = \n",
    "    match department with \n",
    "    | \"Breakroom Bandits\" -> \"#2b3ae9\"\n",
    "    | \"Genesis\" -> \"#f7da41\"\n",
    "    | \"We Tried\" -> \"#008b66\"\n",
    "    | \"No Lucks Given\" -> \"#987200\"\n",
    "    | \"Toon Squad\" -> \"#ff7f0e\"\n",
    "    | \"Rumor Spreaders\" -> \"#20b2aa\"\n",
    "    | \"Risky Biscuits\" -> \"#a230ed\"\n",
    "    | \"Recruitables\" -> \"#d21102\"\n",
    "    | \"Employees of the Moment\" -> \"#19d3f3\"\n",
    "    | \"Chargers\" -> \"#dea57b\"\n",
    "    | \"Kickstarters\" -> \"#dea57b\"\n",
    "    | _ -> \"#8b8b8b\""
   ]
  },
  {
   "cell_type": "code",
   "execution_count": 10,
   "metadata": {
    "dotnet_interactive": {
     "language": "fsharp"
    },
    "polyglot_notebook": {
     "kernelName": "fsharp"
    }
   },
   "outputs": [
    {
     "data": {
      "text/html": [
       "<div><div id=\"12436a14-87ad-474a-8309-2b499bd93463\"><!-- Plotly chart will be drawn inside this DIV --></div><script type=\"text/javascript\">\n",
       "var renderPlotly_12436a1487ad474a83092b499bd93463 = function() {\n",
       "    var fsharpPlotlyRequire = requirejs.config({context:'fsharp-plotly',paths:{plotly:'https://cdn.plot.ly/plotly-2.21.0.min'}}) || require;\n",
       "    fsharpPlotlyRequire(['plotly'], function(Plotly) {\n",
       "        var data = [{\"type\":\"histogram\",\"opacity\":0.5,\"x\":[5,4,3,5,5,4,12,4,6,3,5,2,17,3,10,6,5,5,5,8,1,4,6,1,5,1,4,3,2,3,3,4,3,2,1,1,3,2,2,1,1,1,16,9,3,2,1,2,1,1,3,7,1,4,2,6,8,1,12,7,3,3,2,5,3,3,8,12,1,3,2,4,2,1,1,3,1,3,1,2,3,2,7,9,9,2,7,3,4,4,7,2,1,4,5,2,7,2,5,7,1,1,3,6,4,2,5,5,1,1,3,2,2,3,6,1,4,3,1,3,14,1,3,2,1,7,2,4,5,11,22,4,1,1,5,2,1,3,3,2,1,1,4,3,5,2,2,3,15,7,7,7,1,5,4,2,5,45,6,4,3,2,2,1,3,2,2,7,9,5,4,6,2,1,2,13,3,1,14,4,20,10,14,5,3,12,6,2,3,5,6,2,8,3,2,2,2,3,3,2,2,2,3,1,5,7,6,1,5,4,10,5,2,2,3,6,4,5,3,9,15,3,4,5,2,2,1,4,5,7,3,3,3,5,3,17,4,2,3,1,1,2,3,6,2,3,2,7,11,3,7,5,4,3,8,16,2,3,5,7,2,7,7,1,1,2,2,4,5,2,4,4,21,3,3,2,6,3,3,5,1,2,1,3,4,8,5,10,3,2,3,4,1,2,1,2,2,4,4,6,1,1,9,8,2,6,7,12,4,7,10,7,7,5,3,10,7,7,4,9,3,2,9,15,11,15,7,6,13,5,6,4,10,10,5,7,2,1,1,4,1,6,8,15,11,14,14,12,6,3,2,7,4,4,10,18,5,1,4,18,5,5,10,4,21,6,5,6,21,12,2,15,2,9,3,3,9,1,1,5,4,7,2,2,3,1,6,10,2,2,1,5,4,2,10,2,5,12,6,12,3,13,4,1,4,4,7,1,3,5,7,8,3,3,2,1,1,1,1,1,1,2,3,14,10,2,3,3,3,2,1,4,7,6,6,19,1,7,3,4,8,7,5,4,3,16,3,6,6,12,7,4,6,4,1,3,5,3,2,2,4,3,4,1,4,1,6,2,3,7,1,3,7,3,9,5,11,5,7,4,3,12,8,6,11,9,7,4,6,2,3,2,4,9,1,4,4,1,1,11,1,7,2,1,1,2,2,2,2,2,2,7,5,5,2,6,5,1,6,2,5,6,5,3,2,11,2,8,8,1,1,12,7,3,2,2,2,4,4,2,2,8,5,8,2,2,2,6,3,3,2,3,3,10,2,2,2,8,1,2,5,1,4,7,6,8,2,2,5,11,2,29,1,1,1,1,6,7,1,1,5,2,21,1,1,2,8,2,3,1,1,3,5,3,4,2,2,17,3,4,5,2,6,4,1,1,1,5,1,11,5,4,2,6,4,1,2,10,4,15,2,3,1,6,2,1,3,3,5,6,2,3,1,3,3,3,2,8,3,3,6,6,4,2,4,4,7,4,4,4,2,1,3,8,3,2,1,1,1,1,2,2,4,1,7,2,1,4,6,3,1,1,3,2,2,4,1,3,3,3,2,2,1,4,1,2,1,5,1,1,1,3,3,1,2,3,10,3,1,5,1,2,5,5,1,4,3,2,2,4,5,3,3,5,8,3,4,5,1,5,1,1,1,4,4,2,3,3,2,2,1,2,4,11,4,2,2,1,3,1,3,6,1,3,4,1,3,4,4,1,8,1,1,2,1,6,2,1,2,1,1,2,5,2,9,34,7,4,12,4,4,8,13,2,3,1,2,1,9,1,1,1,2,3,1,4,2,1,4,2,1,1,2,2,2,5,5,1,8,3,4,2,9,6,4,1,2,5,39,1,7,2,2,2,1,2,2,1,2,2,2,5,1,4,1,5,2,5,1,1,1,17,1,2,1,9,5,6,1,3,1,3,3,2,3,3,6,6,4,4,2,3,14,7,4,2,2,3,3,1,1,2,1,2,3,2,4,1,1,1,6,5,8,4,4,1,3,4,2,5,3,7,2,1,5,3,2,3,16,9,1,5,1,2,1,5,2,1,3,2,5,1,1,4,1,1,22,5,2,2,3,4,13,4,1,5,8,2,2,3,3,1,6,3,2,3,2,4,3,13,4,1,3,5,2,4,3,4,7,2,2,7,1,1,3,4,5,7,2,3,4,2,3,4,5,2,2,6,3,1,3,2,3,1,2,2,3,2,1,3,2,4,3,1,3,3,3,4,1,3,1,4,5,3,2,1,1,1,5,3,5,3,8,3,4,3,8,1,4,2,2,3,5,2,3,3,4,5,5,5,8,12,25,3,6,1,1,1,1,2,1,1,2,1,2,5,1,1,3,1,1,1,2,2,2,2,2,3,1,5,6,2,2,2],\"histnorm\":\"probability\",\"marker\":{\"pattern\":{}},\"name\":\"Beer histogram\"},{\"type\":\"histogram\",\"opacity\":0.5,\"x\":[29,23,31,32,20,19,24,14,25,23,14,16,23,22,29,20,15,28,17,28,20,28,29,22,22,31,32,32,24,21,21,30,33,28,32,28,25,23,23,34,29,25,22,34,29,26,22,23,18,31,22,25,19,22,9,25,19,12,12,6,24,23,26,29,33,25,30,21,20,19,20,21,26,6,15,18,26,21,28,27,22,1,12,30,21,28,24,24,24,6,4,8,8,4,2,4,9,7,26,28,22,24,21,20,25,16,29,28,18,17,17,18,19,17,16,20,25,12,20,13,11,22,26,17,17,11,16,15,16,11,14,6,14,24,15,14,16,17,17,25,16,8,11,15,18,16,18,18,21,14,12,18,18,19,27,16,18,16,18,20,5,18,19,17,14,28,21,15,18,20,18,6,32,20,27,28,26,23,27,28,36,35,30,21,34,16,30,29,23,25,26,27,6,15,31,20,14,9,24,52,13,22,29,19,21,8,21,27,15,17,15,22,19,18,19,18,15,32,23,26,21,8,14,23,22,19,16,20,19,13,19,20,21,20,27,18,27,8,10,6,8,14,20,18,21,13,11,19,20,24,24,23,16,25,24,27,16,13,13,25,26,21,26,25,23,17,12,17,18,15,17,12,17,19,21,12,24,21,13,20,15,19,24,30,29,30,10,21,31,33,23,20,18,25,30,21,12,24,21,29,21,6,26,28,17,13,19,17,21,32,21,19,19,20,20,19,16,20,26,23,24,19,18,21,27,6,18,19,20,22,15,9,15,11,24,9,1,2,19,5,27,23,19,20,33,24,9,1,1,1,46,25,24,24,20,19,16,20,15,13,14,21,26,17,20,16,15,30,19,15,6,18,20,26,24,11,11,15,22,17,7,10,14,17,19,6,15,17,39,12,7,12,9,7,2,2,3,2,4,6,6,6,4,5,4,3,2,2,8,3,3,9,7,8,5,4,8,7,3,3,1,1,1,5,3,4,4,4,6,8,6,5,5,11,4,7,5,7,9,2,6,10,7,5,7,10,2,9,13,12,9,11,15,11,8,5,14,18,14,16,12,16,15,12,17,19,14,20,17,13,11,12,10,9,18,11,14,13,10,4,10,7,10,7,8,11,11,7,12,15,9,12,10,8,11,11,9,9,11,9,10,6,8,13,9,10,11,7,11,9,7,5,11,7,8,5,6,8,12,9,11,3,5,2,8,8,13,12,8,15,9,14,20,23,19,10,14,10,19,13,15,13,13,14,17,14,16,13,15,18,20,17,28,14,19,19,22,16,16,13,13,20,16,10,13,23,46,24,15,12,15,13,13,27,20,13,12,11,12,9,10,5,3,3,4,6,5,7,10,11,14,13,14,12,15,17,12,11,11,11,5,12,13,8,12,17,10,7,12,11,13,12,7,11,4,8,13,12,7,11,9,14,10,11,8,15,13,15,9,21,14,7,11,64,2,1,11,5,5,10,7,4,5,9,11,11,14,12,9,15,13,10,7,9,10,14,11,12,14,25,10,13,9,11,6,6,9,10,17,13,11,7,11,10,16,12,14,15,1,4,9,1,11,10,6,8,3,11,7,6,15,8,16,15,5,13,16,8,14,6,7,8,13,9,6,6,11,12,13,6,8,8,18,15,13,18,15,2,8,11,14,15,16,11,12,7,6,8,8,7,5,11,10,7,10,18,7,10,8,6,12,5,13,10,5,16,6,7,9,14,11,7,9,7,5,7,7,4,5,4,13,3,5,7,6,8,7,9,4,9,5,5,7,5,14,18,11,18,13,17,16,15,23,18,19,13,19,10,11,6,13,9,15,12,5,12,8,12,12,10,18,13,2,15,15,12,12,13,13,11,19,9,12,8,10,6,10,10,6,10,12,14,10,9,7,7,11,6,1,11,15,11,14,9,8,6,11,5,7,10,5,11,8,5,1,5,13,9,12,19,22,10,16,11,14,18,11,11,11,12,16,9,11,14,12,15,16,19,24,12,21,13,14,11,9,15,10,9,9,11,18,13,9,21,21,25,17,17,28,22,21,21,14,15,18,10,17,18,13,17,19,15,16,14,20,21,19,16,22,19,24,15,13,10,18,7,7,1,13,14,15,8,14,11,23,16,12,15,23,24,13,25,24,14,25,16,5,18,21,28,13,23,19,18,14,21,20,22,22,3,24,4,4,13,24,24,27,24,27,20,29,28,41,28,25,35,23,23,25,18,14,22,21,23,24,24,29,21,14,21,19,23,16,16,15,21,13,8,15,16,27,20,24,30,23,29,14,34,30,23,16,25,17,20,21,23,22,15,24,18,25,28,24,18,17,19,24,27,25,11,26,21,23,23,18,21,21,18,16,9,31,28,35,36,15,20,15,19,19,29,23,31,22,28,27,25,27,30,23,25,21,26,31,18,25,22,32,22,18,2,6,20,9,17,22,24,20,19,25,15,20,28,24,18,26,20,23,21,21,17,17,12,13,15,11,17,19,21,12,14,17,26,10,9,4,4,3,11,5,13,28,22,17,14,10,15,20,30,15,23,22,22,31,16,28,29,23,21,14,18,19,22,19,21,22,28,17,21,18,25,21,19,22,16,28,21,23,26,20,19,24,21,23,21,30,27,23,26,22,15,12,12,16,18,16,28,23,23,13,25,22,15,24,25,21,27,24,22,8,20,23,28,27,26,30,21,17,13,26,21,25,25,24,27,24,14,18,16,24,17,24,18,18,18,20,4,14,15,30,19,20,17,4,21,12,13,15,15,12,14,14,22,25,24,25,13,14,18,13,12,18,27,20,24,31,20,25,31,30,21,21,29,27,31,27,23,32,25,23,22,21,20,12,14,24,17,18,17,16,7,2,24,24,12,14,14,22,22,24,25,14,25,29,18,21,14,26,19,19,20,19,22,24,24,24,14,24,18,15,24,16,14,31],\"histnorm\":\"probability\",\"marker\":{\"pattern\":{}},\"name\":\"Coffee histogram\"},{\"type\":\"histogram\",\"opacity\":0.5,\"x\":[7,2,2,6,3,4,1,5,11,2,6,3,3,2,11,11,8,10,10,7,7,10,11,6,14,9,8,4,9,8,14,18,13,20,3,7,16,7,11,7,11,10,9,14,12,4,1,3,1,6,6,7,6,2,1,4,1,6,4,9,15,5,8,4,5,7,11,1,2,5,10,5,7,9,10,8,6,8,12,6,9,19,11,7,4,4,2,1,6,6,2,2,4,5,1,5,13,10,9,11,6,8,19,12,8,8,12,7,12,13,10,12,12,14,6,5,10,10,11,8,8,24,19,8,9,10,14,15,13,9,13,16,11,3,17,7,10,11,7,10,11,1,2,5,12,13,21,12,10,7,9,7,8,10,9,9,8,2,9,9,9,6,2,5,1,5,2,9,6,4,20,13,2,3,16,14,15,5,7,15,16,13,13,2,11,20,24,37,2,7,29,14,21,20,19,20,10,9,18,9,42,10,20,17,17,21,21,13,13,19,23,18,17,9,15,9,16,10,11,16,20,20,19,14,19,18,17,12,7,11,7,9,12,17,11,10,13,11,19,9,6,11,12,20,7,14,9,9,6,4,5,6,10,2,11,10,12,10,11,14,15,7,16,12,12,11,9,11,9,4,7,13,8,13,8,18,9,13,9,12,9,16,7,8,14,5,6,4,6,5,11,12,5,7,20,12,20,9,9,14,16,11,15,13,14,7,10,9,16,11,8,14,10,8,6,12,4,6,12,11,10,8,8,6,10,8,11,7,3,5,10,9,10,8,6,9,1,12,14,8,6,5,10,3,8,9,10,8,6,6,6,7,10,11,13,4,9,14,13,13,8,5,6,2,7,7,5,7,6,5,4,7,7,4,8,7,7,10,4,4,2,4,3,5,2,2,3,3,1,4,2,2,7,2,4,6,7,5,7,2,4,6,4,5,10,1,2,1,7,6,2,6,8,4,3,6,5,2,6,7,8,4,2,7,5,5,6,8,3,7,10,1,6,6,3,10,5,1,5,9,7,8,14,8,3,11,11,11,5,1,13,5,3,8,2,6,7,3,8,7,4,6,5,10,10,8,8,7,9,9,4,7,9,7,3,8,5,9,6,7,10,3,7,6,5,15,8,11,7,4,7,1,3,8,8,6,9,8,6,5,6,6,4,7,3,3,1,5,2,4,3,5,9,7,6,3,1,2,3,6,8,6,8,6,5,7,7,6,6,12,9,11,8,8,10,7,7,5,10,11,9,5,6,5,6,8,7,3,15,7,8,4,10,6,7,5,5,2,1,2,2,5,6,6,4,7,9,7,4,4,6,6,6,1,4,4,6,9,8,7,3,4,8,6,5,6,5,5,9,8,4,3,4,5,5,6,13,5,7,12,1,5,3,4,8,1,2,2,2,3,3,1,3,4,6,9,2,5,2,4,8,9,9,5,4,6,8,5,4,11,7,10,2,2,1,6,6,7,8,6,6,10,2,4,6,13,12,5,7,4,10,6,3,6,2,6,4,4,6,5,8,3,7,7,8,5,5,5,3,4,4,2,6,7,8,12,10,10,12,9,19,13,12,11,10,7,8,6,15,7,13,12,10,12,14,1,1,8,10,10,9,6,5,10,13,7,4,8,7,7,7,5,5,3,10,8,7,8,7,5,6,9,9,4,10,8,3,3,12,13,7,4,6,6,9,8,5,6,8,7,11,10,7,8,8,10,15,16,9,6,7,5,5,7,6,12,10,13,9,7,4,8,16,14,10,8,4,9,3,10,3,3,6,6,5,4,6,5,7,11,1,7,6,9,10,11,12,2,7,7,10,10,2,5,1,5,3,3,4,3,4,5,8,1,7,3,6,9,6,6,9,4,10,1,3,2,2,4,4,5,6,3,5,11,11,6,8,8,6,14,10,11,14,6,13,3,6,5,6,5,4,5,6,5,8,8,4,4,10,11,8,7,5,7,5,8,4,3,11,4,8,12,5,6,10,4,8,8,7,5,9,5,2,4,3,2,6,6,3,1,3,4,2,8,11,11,12,8,2,10,14,10,1,3,10,10,9,10,9,8,9,12,7,11,12,14,5,16,13,10,18,8,9,26,25,9,9,8,11,4,9,11,18,7,12,9,2,1,2,13,15,10,14,16,2,6,5,8,18,21,4,12,15,10,10,6,20,15,22,10,9,10,14,21,29,14,16,24,17,10,11,11,8,12,22,10,8,13,19,6,3,11,5,10,10,10,6,8,7,7,10,3,9,24,5,14,8,17,16,11,11,11,17,20,14,5,9,11,18,16,12,7,9,3,5,7,15,9,17,12,9,9,6,6,5,8,9,7,8,8,9,5,7,6,8,5,6,5,1,5,5,3,5,2,7,6,4,5,4,3,3,2,4,2,1,1,3,11,17,15,8,12,17,20,9,17,2,6,16,9,8,2,10,11,1,2,1,2,8,8,7,8,9,6,7,13,8,4,7,10,1,7,4,4,20,5,8,5,1,3,4,3,4,6,5,5,4,5,4,4,3,5,2,5,6,5,5,2,3,5,7,17,7,10,9,11,31,9,12,13,11,12,10,13,13,9,9,5,7,8,10,6,6,1,2,9,5,1,8,9,3,8,8,13,4,6,7,8,4,4,4,2,2,9,14,16,8,5,9,10,6,6,6,13,17,1,12,9,17,13,17,5,1,11,10,6,8,7,5,5,5,4,8,6,3,4,10,12,11,11,16,12,9,13,18,9,12,11,17,6,7,13,9,10,12,13,12,10,15,10,7,9,5,9,7,8,8,8,6,2,2,3,3,1,3,1,7,11,7,11,17,15,9,8,2,6,6,9,4,5,9,2,1,8,1,2,6,6,5,5,7,5],\"histnorm\":\"probability\",\"marker\":{\"pattern\":{}},\"name\":\"Beverage histogram\"}];\n",
       "        var layout = {\"width\":1000,\"height\":900,\"template\":{\"layout\":{\"paper_bgcolor\":\"white\",\"plot_bgcolor\":\"white\",\"xaxis\":{\"ticks\":\"inside\",\"mirror\":\"all\",\"showline\":true,\"zeroline\":true},\"yaxis\":{\"ticks\":\"inside\",\"mirror\":\"all\",\"showline\":true,\"zeroline\":true}},\"data\":{}},\"barmode\":\"overlay\",\"xaxis\":{\"title\":{\"text\":\"logs per work day\"},\"ticks\":\"inside\",\"mirror\":\"all\",\"showline\":true,\"showgrid\":false},\"yaxis\":{\"title\":{\"text\":\"probability density\"},\"ticks\":\"inside\",\"mirror\":\"all\",\"showline\":true,\"showgrid\":false}};\n",
       "        var config = {\"responsive\":true};\n",
       "        Plotly.newPlot('12436a14-87ad-474a-8309-2b499bd93463', data, layout, config);\n",
       "    });\n",
       "};\n",
       "if ((typeof(requirejs) !==  typeof(Function)) || (typeof(requirejs.config) !== typeof(Function))) {\n",
       "    var script = document.createElement(\"script\");\n",
       "    script.setAttribute(\"charset\", \"utf-8\");\n",
       "    script.setAttribute(\"src\", \"https://cdnjs.cloudflare.com/ajax/libs/require.js/2.3.6/require.min.js\");\n",
       "    script.onload = function(){\n",
       "        renderPlotly_12436a1487ad474a83092b499bd93463();\n",
       "    };\n",
       "    document.getElementsByTagName(\"head\")[0].appendChild(script);\n",
       "}\n",
       "else {\n",
       "    renderPlotly_12436a1487ad474a83092b499bd93463();\n",
       "}\n",
       "</script></div>"
      ]
     },
     "metadata": {},
     "output_type": "display_data"
    }
   ],
   "source": [
    "\n",
    "let getHistogramOfCategory (category: Category) = \n",
    "    data\n",
    "    |> Array.filter (fun x -> x.Category = category && x.DateTime.DayOfWeek <> System.DayOfWeek.Saturday && x.DateTime.DayOfWeek <> System.DayOfWeek.Sunday)\n",
    "    |> Array.groupBy (fun x -> x.DateTime.ToShortDateString())\n",
    "    |> Array.map (snd >> Array.length)\n",
    "    |> fun x -> \n",
    "        Chart.Histogram(x,Opacity=0.5,HistNorm=StyleParam.HistNorm.Probability)\n",
    "        |> Chart.withTraceInfo (category.ToString() + \" histogram\")\n",
    "        |> Chart.withSize(1000.,900.)\n",
    "\n",
    "let histoRawBeer =  getHistogramOfCategory Category.Beer\n",
    "let histoRawCoffe = getHistogramOfCategory Category.Coffee\n",
    "let histoRawBeverage  = getHistogramOfCategory Category.Beverage\n",
    "\n",
    "[\n",
    "histoRawBeer \n",
    "histoRawCoffe\n",
    "histoRawBeverage\n",
    "] \n",
    "|> Chart.combine\n",
    "|> Chart.withLayoutStyle(BarMode=StyleParam.BarMode.Overlay)\n",
    "|> Chart.withAxisTitles \"logs per work day\" \"probability density\""
   ]
  },
  {
   "cell_type": "code",
   "execution_count": 3,
   "metadata": {
    "dotnet_interactive": {
     "language": "fsharp"
    },
    "polyglot_notebook": {
     "kernelName": "fsharp"
    }
   },
   "outputs": [],
   "source": [
    "let persons = \n",
    "    data \n",
    "    |> Array.map (fun x -> x.Name,getDepartmentColor x.Department) \n",
    "    |> Array.distinct\n",
    "    |> Map.ofArray\n",
    "\n",
    "let searchDrinkPartners = \n",
    "    data\n",
    "    |> Array.map (fun x -> \n",
    "        data\n",
    "        |> Array.filter (fun t -> \n",
    "            x.DateTime < t.DateTime.AddMinutes 1 && x.DateTime > t.DateTime.AddMinutes -1\n",
    "            )\n",
    "        |> Array.map (fun drinkPartner -> \n",
    "            x.Name,drinkPartner.Name\n",
    "            )\n",
    "        |> Array.filter (fun (a,b) -> a <> b)\n",
    "        )\n",
    "    |> Array.concat\n",
    "    |> Array.groupBy id\n",
    "    |> Array.map (fun (partner,occurences) -> \n",
    "        partner,occurences.Length\n",
    "        )\n",
    "    |> Array.sortByDescending snd\n",
    "    |> Array.filter (fun (a,b) -> b > 5)\n",
    "    |> Array.distinctBy (fun ((a,b),_) -> [a;b] |> List.sort)\n",
    "\n",
    "let getCytoVertices (input: ((string*string)*int) []) = \n",
    "    input\n",
    "    |> Seq.collect (fun ((s,t),w) ->\n",
    "        let stylingSource = [CyParam.label s; CyParam.weight 12; CyParam.color persons.[s]]\n",
    "        let stylingTarget = [CyParam.label t; CyParam.weight 12; CyParam.color persons.[t]]\n",
    "        [|Elements.node s stylingSource;Elements.node t stylingTarget|]\n",
    "        )\n",
    "    |> Seq.distinct\n",
    "\n",
    "let getCytoEdges (input: seq<(string*string)*int>)= \n",
    "    input \n",
    "    |> Seq.distinct\n",
    "    |> Seq.mapi (fun i ((s,t),w) -> \n",
    "        let styling = [CyParam.weight (sqrt(float w / 2.))]\n",
    "        Elements.edge (\"e\" + string i) s t styling\n",
    "        )\n",
    "\n",
    "let goVertices = getCytoVertices searchDrinkPartners\n",
    "let goEdges = getCytoEdges searchDrinkPartners\n",
    "\n",
    "\n",
    "let cytoGraph vertices edges = \n",
    "    CyGraph.initEmpty ()\n",
    "    |> CyGraph.withElements vertices\n",
    "    |> CyGraph.withElements edges\n",
    "    |> CyGraph.withStyle \"node\" \n",
    "        [\n",
    "            CyParam.shape \"circle\"\n",
    "            CyParam.content =. CyParam.label\n",
    "            CyParam.Background.color  =.CyParam.color //\"grey\"//\n",
    "            CyParam.Border.color \"#A00975\"\n",
    "        ]\n",
    "    |> CyGraph.withStyle \"edge\" \n",
    "        [\n",
    "            CyParam.Line.color \"#3D1244\"\n",
    "            CyParam.Curve.style \"bezier\"\n",
    "            CyParam.width =. CyParam.weight\n",
    "        ]\n",
    "    |> CyGraph.withLayout (Layout.initCose id)   \n",
    "\n",
    "cytoGraph goVertices goEdges\n",
    "|> CyGraph.withSize (1300,1000)\n",
    "|> CyGraph.show"
   ]
  },
  {
   "cell_type": "code",
   "execution_count": 6,
   "metadata": {
    "dotnet_interactive": {
     "language": "fsharp"
    },
    "polyglot_notebook": {
     "kernelName": "fsharp"
    }
   },
   "outputs": [],
   "source": [
    "\n",
    "let personsCorr = \n",
    "    persons\n",
    "    |> Map.toArray\n",
    "    |> Array.map fst\n",
    "\n",
    "let signal = \n",
    "    data\n",
    "    |> Array.groupBy (fun x -> x.DateTime.Date)\n",
    "    |> Array.map (fun (date,orders) -> \n",
    "        \n",
    "        let tmp = \n",
    "            personsCorr\n",
    "            |> Array.map (fun name -> \n",
    "                orders\n",
    "                |> Array.filter (fun order -> order.Name = name)\n",
    "                |> Array.length\n",
    "                |> float\n",
    "                )\n",
    "        tmp\n",
    "        )\n",
    "    |> JaggedArray.transpose\n",
    "\n",
    "let corrMat = \n",
    "    Correlation.Matrix.rowWisePearson (matrix signal)\n",
    "\n",
    "corrMat\n",
    "|> Matrix.toJaggedArray\n",
    "|> fun x -> Chart.Heatmap (x,colNames = personsCorr,rowNames=personsCorr)\n",
    "|> Chart.withSize(1000.,900.)\n",
    "|> Chart.show\n",
    "\n",
    "corrMat\n",
    "|> Matrix.toJaggedArray\n",
    "|> Array.concat\n",
    "|> Array.filter (fun x -> x <> 1.)\n",
    "|> Chart.Histogram\n",
    "|> Chart.withAxisTitles \"pearson correlation\" \"count\"\n",
    "|> Chart.withSize(1000.,900.)\n",
    "|> Chart.show\n",
    "\n",
    "let correlationThreshold = \n",
    "    //precomputed because of runtime and LAPACK dependency\n",
    "    //Testing.RMT.compute 0.9 0.01 0.05 corrMat\n",
    "    0.333984375\n",
    "    0.5\n",
    "\n",
    "let mutable nodelist : string list= []\n",
    "let mutable edgelist: (string*string*float) list= []\n",
    "\n",
    "corrMat\n",
    "|> Matrix.mapi (fun r c x -> \n",
    "    if r < c then \n",
    "        if x > 0.35547 then \n",
    "            nodelist <- personsCorr.[r]::(personsCorr.[c]::nodelist)\n",
    "            edgelist <- (personsCorr.[r],personsCorr.[c],x)::edgelist\n",
    "            1.\n",
    "        else 0.\n",
    "    else 0.)\n",
    "\n",
    "let csbCytoVertices = \n",
    "    nodelist\n",
    "    |> Seq.collect (fun s ->\n",
    "        let stylingSource = [CyParam.label s; CyParam.weight 12; CyParam.color persons.[s]]\n",
    "        [|Elements.node s stylingSource|]\n",
    "        )\n",
    "    |> Seq.distinct\n",
    "\n",
    "let csbCytoEdges = \n",
    "    edgelist \n",
    "    |> Seq.distinct\n",
    "    |> Seq.mapi (fun i (s,t,w) -> \n",
    "        let styling = [CyParam.weight (3. / abs w)]\n",
    "        Elements.edge (\"e\" + string i) s t styling\n",
    "        )\n",
    "\n",
    "CyGraph.initEmpty ()\n",
    "|> CyGraph.withElements csbCytoVertices\n",
    "|> CyGraph.withElements csbCytoEdges\n",
    "|> CyGraph.withStyle \"node\" \n",
    "    [\n",
    "        CyParam.shape \"circle\"\n",
    "        CyParam.content =. CyParam.label\n",
    "        CyParam.Background.color  =.CyParam.color //\"grey\"//\n",
    "        CyParam.Border.color \"#A00975\"\n",
    "    ]\n",
    "|> CyGraph.withStyle \"edge\" \n",
    "    [\n",
    "        CyParam.Line.color \"#3D1244\"\n",
    "        CyParam.Curve.style \"bezier\"\n",
    "        CyParam.width =. CyParam.weight\n",
    "    ]\n",
    "|> CyGraph.withLayout (Layout.initCose id)  \n",
    "|> CyGraph.withSize (1300,1000)\n",
    "|> CyGraph.show\n"
   ]
  }
 ],
 "metadata": {
  "kernelspec": {
   "display_name": ".NET (C#)",
   "language": "C#",
   "name": ".net-csharp"
  },
  "language_info": {
   "name": "polyglot-notebook"
  },
  "polyglot_notebook": {
   "kernelInfo": {
    "defaultKernelName": "csharp",
    "items": [
     {
      "aliases": [],
      "name": "csharp"
     },
     {
      "aliases": [],
      "languageName": "fsharp",
      "name": "fsharp"
     }
    ]
   }
  }
 },
 "nbformat": 4,
 "nbformat_minor": 2
}
