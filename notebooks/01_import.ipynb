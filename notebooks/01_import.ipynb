{
 "cells": [
  {
   "cell_type": "markdown",
   "metadata": {},
   "source": [
    "## Introduction \n",
    "\n",
    "For the analysis of the coffee and beverage logging data we'll need several libraries\n",
    "- `FSharp.Stats` for regression, statistics, network generation, and signal smoothing \n",
    "- `Plotly.NET` for all kinds of visualizations \n",
    "- `FSharp.Data` for data import \n",
    "- `Cytoscape.NET` for network visualization\n",
    "The interactive projects of Plotly.NET and Cytoscape.NET are needed to render the charts within a notebook instead of opening a browser\n",
    "\n",
    "## NuGet\n",
    "NuGet is the package manager for .NET. #r directives can be copied to `.fsx` scripts or polyglot notebooks to get access to libraries."
   ]
  },
  {
   "cell_type": "code",
   "execution_count": 1,
   "metadata": {
    "dotnet_interactive": {
     "language": "fsharp"
    },
    "polyglot_notebook": {
     "kernelName": "fsharp"
    }
   },
   "outputs": [
    {
     "data": {
      "text/html": [
       "<div><div></div><div></div><div><strong>Installed Packages</strong><ul><li><span>Cytoscape.NET.Interactive, 0.2.0</span></li><li><span>FSharp.Data, 6.3.0</span></li><li><span>FSharp.Stats, 0.5.1-preview.1</span></li><li><span>Plotly.NET.Interactive, 4.2.1</span></li></ul></div></div>"
      ]
     },
     "metadata": {},
     "output_type": "display_data"
    },
    {
     "data": {
      "text/plain": [
       "Loading extensions from `C:\\Users\\bvenn\\.nuget\\packages\\cytoscape.net.interactive\\0.2.0\\interactive-extensions\\dotnet\\Cytoscape.NET.Interactive.dll`"
      ]
     },
     "metadata": {},
     "output_type": "display_data"
    },
    {
     "data": {
      "text/plain": [
       "Loading extensions from `C:\\Users\\bvenn\\.nuget\\packages\\plotly.net.interactive\\4.2.1\\interactive-extensions\\dotnet\\Plotly.NET.Interactive.dll`"
      ]
     },
     "metadata": {},
     "output_type": "display_data"
    }
   ],
   "source": [
    "// nuget references\n",
    "#r \"nuget: FSharp.Stats, 0.5.1-preview.1\"\n",
    "#r \"nuget: Plotly.NET.Interactive, 4.2.1\"\n",
    "#r \"nuget: FSharp.Data, 6.3.0\"\n",
    "#r \"nuget: Cytoscape.NET.Interactive, 0.2.0\"\n",
    "\n",
    "// the specified library namespaces and submodules are opened \n",
    "open FSharp.Stats\n",
    "open Plotly.NET\n",
    "open Plotly.NET.StyleParam\n",
    "open Plotly.NET.LayoutObjects\n",
    "open FSharp.Data\n",
    "open Cytoscape.NET\n",
    "open System"
   ]
  },
  {
   "cell_type": "markdown",
   "metadata": {},
   "source": [
    "Some of FSharp.Stats functionalities require the usage of [LAPACK](https://www.netlib.org/lapack/) routines. After the initial package download you can find these at `C:\\Users\\USERNAME\\.nuget\\packages\\fsharp.stats\\0.5.1-preview.1\\netlib_LAPACK`. In the prepared use cases it is not necessary to load it but if you want, the next two lines do the job "
   ]
  },
  {
   "cell_type": "code",
   "execution_count": 6,
   "metadata": {
    "dotnet_interactive": {
     "language": "csharp"
    },
    "polyglot_notebook": {
     "kernelName": "csharp"
    }
   },
   "outputs": [],
   "source": [
    "//FSharp.Stats.ServiceLocator.setEnvironmentPathVariable (@\"C:\\Users\\USERNAME\\.nuget\\packages\\fsharp.stats\\0.5.1-preview.1\\netlib_LAPACK\")\n",
    "//FSharp.Stats.Algebra.LinearAlgebra.Service()"
   ]
  },
  {
   "cell_type": "markdown",
   "metadata": {},
   "source": [
    "## Types\n",
    "To represent a coffee log, we need two custom types. Products within the CSBar system can either be categorized as `Coffee`, `Beer`, `Beverage`, or `Other`. The following `Category` type models this and additionally provides the static member `FromString` that converts an input string to the according type."
   ]
  },
  {
   "cell_type": "code",
   "execution_count": 2,
   "metadata": {
    "dotnet_interactive": {
     "language": "fsharp"
    },
    "polyglot_notebook": {
     "kernelName": "fsharp"
    }
   },
   "outputs": [],
   "source": [
    "type Category =\n",
    "    | Beer\n",
    "    | Beverage\n",
    "    | Coffee\n",
    "    | Other\n",
    "    with \n",
    "        /// takes a string that describes the category and returns the corresponding category type\n",
    "        static member FromString (s: string) =\n",
    "            match s with\n",
    "            | \"Beer\" -> Beer\n",
    "            | \"Beverage\" -> Beverage\n",
    "            | \"Coffee\" -> Coffee\n",
    "            | _ -> Other"
   ]
  },
  {
   "cell_type": "markdown",
   "metadata": {},
   "source": [
    "Now we are able to construct an `Order` record type that represents a single line of the coffeeData.txt. We could of course model the departments and producs as types as well, but for now, this type level is sufficient."
   ]
  },
  {
   "cell_type": "code",
   "execution_count": 18,
   "metadata": {
    "dotnet_interactive": {
     "language": "fsharp"
    },
    "polyglot_notebook": {
     "kernelName": "fsharp"
    }
   },
   "outputs": [],
   "source": [
    "type Order = {\n",
    "    DateTime    : System.DateTime\n",
    "    Name        : string\n",
    "    Gender      : char\n",
    "    Product     : string\n",
    "    Price       : float\n",
    "    Department  : string\n",
    "    Category    : Category\n",
    "    Amount      : int\n",
    "    } with\n",
    "        /// takes data row entities as input and creates a Order record type\n",
    "        static member Create time (name: string) gender product price department category amount = {\n",
    "            DateTime  = time\n",
    "            Name      = name\n",
    "            Gender    = gender\n",
    "            Product   = product\n",
    "            Price     = price\n",
    "            Department= department\n",
    "            Category  = category\n",
    "            Amount    = amount\n",
    "            }"
   ]
  },
  {
   "cell_type": "markdown",
   "metadata": {},
   "source": [
    "## Data import\n",
    "FSharp.Data is used to import the coffeedata.txt. While iterating over the individual rows, instances of the `Order` type are created.\n",
    "\n",
    "_Note: You could also use Deedle or just System.IO.File.readAllLines to import the data_"
   ]
  },
  {
   "cell_type": "code",
   "execution_count": 10,
   "metadata": {
    "dotnet_interactive": {
     "language": "fsharp"
    },
    "polyglot_notebook": {
     "kernelName": "fsharp"
    }
   },
   "outputs": [],
   "source": [
    "// Order [] all of the analysis will be based on\n",
    "let data = \n",
    "    let tmp =\n",
    "        FSharp.Data.CsvFile\n",
    "            //.Load(@\"..\\data\\coffeedata.txt\")\n",
    "            .Load(@\"C:\\Users\\bvenn\\source\\repos\\brewing-discoveries-workshop\\data\\coffeedata.txt\")\n",
    "            .Cache()\n",
    "\n",
    "    tmp.Rows\n",
    "    |> Seq.map (fun row -> \n",
    "        Order.Create\n",
    "            (System.DateTime.ParseExact((row.GetColumn \"DateTime\"),\"dd/MM/yyyy HH:mm:ss\",null))\n",
    "            (row.GetColumn \"Name\")\n",
    "            (row.GetColumn \"Gender\" |> char)\n",
    "            (row.GetColumn \"Product\")\n",
    "            (row.GetColumn \"Price\" |> float) \n",
    "            (row.GetColumn \"Department\")\n",
    "            ((row.GetColumn \"Category\") |> Category.FromString)\n",
    "            (row.GetColumn \"Amount\" |> int)\n",
    "        )\n",
    "    |> Array.ofSeq\n"
   ]
  },
  {
   "cell_type": "markdown",
   "metadata": {},
   "source": [
    "For visualization purposes it is handy to be able to color the users based on their department. The following function assigns a HEX color code to each department"
   ]
  },
  {
   "cell_type": "code",
   "execution_count": 12,
   "metadata": {
    "dotnet_interactive": {
     "language": "fsharp"
    },
    "polyglot_notebook": {
     "kernelName": "fsharp"
    }
   },
   "outputs": [],
   "source": [
    "/// gets a department from an Order type and returns a unique color in hex format\n",
    "let getDepartmentColor (department: string) = \n",
    "    match department with \n",
    "    | \"Breakroom Bandits\" -> \"#2b3ae9\"\n",
    "    | \"Genesis\"           -> \"#f7da41\"\n",
    "    | \"We Tried\"          -> \"#008b66\"\n",
    "    | \"No Lucks Given\"    -> \"#987200\"\n",
    "    | \"Toon Squad\"        -> \"#ff7f0e\"\n",
    "    | \"Rumor Spreaders\"   -> \"#20b2aa\"\n",
    "    | \"Risky Biscuits\"    -> \"#a230ed\"\n",
    "    | \"Recruitables\"      -> \"#d21102\"\n",
    "    | \"Employees of the Moment\" -> \"#19d3f3\"\n",
    "    | \"Chargers\"          -> \"#dea57b\"\n",
    "    | \"Kickstarters\"      -> \"#dea57b\"\n",
    "    | _                   -> \"#8b8b8b\"\n",
    "\n",
    "/// Map that assigns a color to each person, based on the department\n",
    "let persons = \n",
    "    data \n",
    "    |> Array.map (fun x -> x.Name,getDepartmentColor x.Department) \n",
    "    |> Array.distinct\n",
    "    |> Map.ofArray"
   ]
  },
  {
   "cell_type": "markdown",
   "metadata": {},
   "source": [
    "We successfully modeled and imported the data set. Now we can take a dive into the data and try to use data science to reveal interesting properties or surpising discoveries.\n",
    "\n",
    "For a first glance lets check which time frame the data covers:"
   ]
  },
  {
   "cell_type": "code",
   "execution_count": 15,
   "metadata": {
    "dotnet_interactive": {
     "language": "fsharp"
    },
    "polyglot_notebook": {
     "kernelName": "fsharp"
    }
   },
   "outputs": [
    {
     "data": {
      "text/html": [
       "<details open=\"open\" class=\"dni-treeview\"><summary><span class=\"dni-code-hint\"><code>({ DateTime = 8/23/2018 7:31:30 AM\\n  Name = &quot;Justin Bennett&quot;\\n  Gender = &#39;m&#39;\\n  Product = &quot;Bluna Orange 0.2 l&quot;\\n  Price = 0.8\\n  Department = &quot;Employees of the Moment&quot;\\n  Category = Beverage\\n  Amount = 1 }, { DateTime = 9/19/2023 5:17:44 PM\\n  Name = &quot;Zachary Mitchell&quot;\\n  Gender = &#39;m&#39;\\n  Product =...</code></span></summary><div><table><thead><tr></tr></thead><tbody><tr><td>Item1</td><td><details class=\"dni-treeview\"><summary><span class=\"dni-code-hint\"><code>{ DateTime = 8/23/2018 7:31:30 AM\\n  Name = &quot;Justin Bennett&quot;\\n  Gender = &#39;m&#39;\\n  Product = &quot;Bluna Orange 0.2 l&quot;\\n  Price = 0.8\\n  Department = &quot;Employees of the Moment&quot;\\n  Category = Beverage\\n  Amount = 1 }</code></span></summary><div><table><thead><tr></tr></thead><tbody><tr><td>DateTime</td><td><span>2018-08-23 07:31:30Z</span></td></tr><tr><td>Name</td><td><div class=\"dni-plaintext\"><pre>Justin Bennett</pre></div></td></tr><tr><td>Gender</td><td><div class=\"dni-plaintext\"><pre>m</pre></div></td></tr><tr><td>Product</td><td><div class=\"dni-plaintext\"><pre>Bluna Orange 0.2 l</pre></div></td></tr><tr><td>Price</td><td><div class=\"dni-plaintext\"><pre>0.8</pre></div></td></tr><tr><td>Department</td><td><div class=\"dni-plaintext\"><pre>Employees of the Moment</pre></div></td></tr><tr><td>Category</td><td><details class=\"dni-treeview\"><summary><span class=\"dni-code-hint\"><code>Beverage</code></span></summary><div><table><thead><tr></tr></thead><tbody></tbody></table></div></details></td></tr><tr><td>Amount</td><td><div class=\"dni-plaintext\"><pre>1</pre></div></td></tr></tbody></table></div></details></td></tr><tr><td>Item2</td><td><details class=\"dni-treeview\"><summary><span class=\"dni-code-hint\"><code>{ DateTime = 9/19/2023 5:17:44 PM\\n  Name = &quot;Zachary Mitchell&quot;\\n  Gender = &#39;m&#39;\\n  Product = &quot;Augustiner Lager Hell&quot;\\n  Price = 1.3\\n  Department = &quot;Breakroom Bandits&quot;\\n  Category = Beer\\n  Amount = 1 }</code></span></summary><div><table><thead><tr></tr></thead><tbody><tr><td>DateTime</td><td><span>2023-09-19 17:17:44Z</span></td></tr><tr><td>Name</td><td><div class=\"dni-plaintext\"><pre>Zachary Mitchell</pre></div></td></tr><tr><td>Gender</td><td><div class=\"dni-plaintext\"><pre>m</pre></div></td></tr><tr><td>Product</td><td><div class=\"dni-plaintext\"><pre>Augustiner Lager Hell</pre></div></td></tr><tr><td>Price</td><td><div class=\"dni-plaintext\"><pre>1.3</pre></div></td></tr><tr><td>Department</td><td><div class=\"dni-plaintext\"><pre>Breakroom Bandits</pre></div></td></tr><tr><td>Category</td><td><details class=\"dni-treeview\"><summary><span class=\"dni-code-hint\"><code>Beer</code></span></summary><div><table><thead><tr></tr></thead><tbody></tbody></table></div></details></td></tr><tr><td>Amount</td><td><div class=\"dni-plaintext\"><pre>1</pre></div></td></tr></tbody></table></div></details></td></tr></tbody></table></div></details><style>\r\n",
       ".dni-code-hint {\r\n",
       "    font-style: italic;\r\n",
       "    overflow: hidden;\r\n",
       "    white-space: nowrap;\r\n",
       "}\r\n",
       ".dni-treeview {\r\n",
       "    white-space: nowrap;\r\n",
       "}\r\n",
       ".dni-treeview td {\r\n",
       "    vertical-align: top;\r\n",
       "    text-align: start;\r\n",
       "}\r\n",
       "details.dni-treeview {\r\n",
       "    padding-left: 1em;\r\n",
       "}\r\n",
       "table td {\r\n",
       "    text-align: start;\r\n",
       "}\r\n",
       "table tr { \r\n",
       "    vertical-align: top; \r\n",
       "    margin: 0em 0px;\r\n",
       "}\r\n",
       "table tr td pre \r\n",
       "{ \r\n",
       "    vertical-align: top !important; \r\n",
       "    margin: 0em 0px !important;\r\n",
       "} \r\n",
       "table th {\r\n",
       "    text-align: start;\r\n",
       "}\r\n",
       "</style>"
      ]
     },
     "metadata": {},
     "output_type": "display_data"
    }
   ],
   "source": [
    "let firstLog = Array.minBy (fun x -> x.DateTime) data\n",
    "let lastLog  = Array.maxBy (fun x -> x.DateTime) data\n",
    "\n",
    "firstLog,lastLog"
   ]
  },
  {
   "cell_type": "markdown",
   "metadata": {},
   "source": [
    "How many Persons are involved and how many products are available?"
   ]
  },
  {
   "cell_type": "code",
   "execution_count": 17,
   "metadata": {
    "dotnet_interactive": {
     "language": "fsharp"
    },
    "polyglot_notebook": {
     "kernelName": "fsharp"
    }
   },
   "outputs": [
    {
     "data": {
      "text/plain": [
       "Persons: 155\n",
       "Products: 212"
      ]
     },
     "metadata": {},
     "output_type": "display_data"
    }
   ],
   "source": [
    "let personsCount =\n",
    "    data\n",
    "    |> Array.distinctBy (fun x -> x.Name)\n",
    "    |> Array.length\n",
    "\n",
    "let productCount =\n",
    "    data\n",
    "    |> Array.distinctBy (fun x -> x.Product)\n",
    "    |> Array.length\n",
    "\n",
    "$\"Persons: {personsCount}\\nProducts: {productCount}\""
   ]
  },
  {
   "cell_type": "markdown",
   "metadata": {},
   "source": [
    "How many coffees, beers and beverages were ordered?"
   ]
  },
  {
   "cell_type": "code",
   "execution_count": 20,
   "metadata": {
    "dotnet_interactive": {
     "language": "fsharp"
    },
    "polyglot_notebook": {
     "kernelName": "fsharp"
    }
   },
   "outputs": [
    {
     "data": {
      "text/plain": [
       "Coffee: 21484\n",
       "Beer: 4647\n",
       "Beverage: 10481"
      ]
     },
     "metadata": {},
     "output_type": "display_data"
    }
   ],
   "source": [
    "let coffeelogs   = data |> Array.filter (fun x -> x.Category = Coffee)   |> Array.length\n",
    "let beerlogs     = data |> Array.filter (fun x -> x.Category = Beer)     |> Array.length\n",
    "let beveragelogs = data |> Array.filter (fun x -> x.Category = Beverage) |> Array.length\n",
    "\n",
    "$\"Coffee: {coffeelogs}\\nBeer: {beerlogs}\\nBeverage: {beveragelogs}\""
   ]
  },
  {
   "cell_type": "markdown",
   "metadata": {},
   "source": [
    "What properties do you want to check next?"
   ]
  }
 ],
 "metadata": {
  "kernelspec": {
   "display_name": ".NET (C#)",
   "language": "C#",
   "name": ".net-csharp"
  },
  "language_info": {
   "name": "polyglot-notebook"
  },
  "polyglot_notebook": {
   "kernelInfo": {
    "defaultKernelName": "csharp",
    "items": [
     {
      "aliases": [],
      "name": "csharp"
     },
     {
      "aliases": [],
      "languageName": "fsharp",
      "name": "fsharp"
     }
    ]
   }
  }
 },
 "nbformat": 4,
 "nbformat_minor": 2
}
