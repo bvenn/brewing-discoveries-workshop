{
 "cells": [
  {
   "cell_type": "code",
   "execution_count": null,
   "metadata": {
    "dotnet_interactive": {
     "language": "fsharp"
    },
    "polyglot_notebook": {
     "kernelName": "fsharp"
    }
   },
   "outputs": [],
   "source": [
    "#r \"nuget: FSharp.Stats, 0.5.1-preview.1\"\n",
    "#r \"nuget: Plotly.NET.Interactive, 4.2.1\"\n",
    "\n",
    "open FSharp.Stats\n",
    "open Plotly.NET\n",
    "open Plotly.NET.StyleParam\n",
    "open Plotly.NET.LayoutObjects\n",
    "open FSharp.Data\n",
    "open System\n",
    "\n",
    "// use a script to import data in all notebooks > 1\n",
    "#load \"import.fsx\"\n",
    "open Import\n",
    "let orders = Import.orders\n",
    "\n",
    "let getDepartmentColor (department: string) = \n",
    "    match department with \n",
    "    | \"Breakroom Bandits\" -> \"#2b3ae9\"\n",
    "    | \"Genesis\" -> \"#f7da41\"\n",
    "    | \"We Tried\" -> \"#008b66\"\n",
    "    | \"No Lucks Given\" -> \"#987200\"\n",
    "    | \"Toon Squad\" -> \"#ff7f0e\"\n",
    "    | \"Rumor Spreaders\" -> \"#20b2aa\"\n",
    "    | \"Risky Biscuits\" -> \"#a230ed\"\n",
    "    | \"Recruitables\" -> \"#d21102\"\n",
    "    | \"Employees of the Moment\" -> \"#19d3f3\"\n",
    "    | \"Chargers\" -> \"#dea57b\"\n",
    "    | \"Kickstarters\" -> \"#dea57b\"\n",
    "    | _ -> \"#8b8b8b\""
   ]
  },
  {
   "cell_type": "markdown",
   "metadata": {},
   "source": [
    "Lets isolate the beverage orders from a person of your choice. Count how many beverages where logged each day and visualize the data as column chart.\n",
    "\n",
    "Hint: Use `(date: System.DateTime).ToToShortDateString()`"
   ]
  },
  {
   "cell_type": "code",
   "execution_count": null,
   "metadata": {
    "dotnet_interactive": {
     "language": "fsharp"
    },
    "polyglot_notebook": {
     "kernelName": "fsharp"
    }
   },
   "outputs": [],
   "source": []
  },
  {
   "cell_type": "markdown",
   "metadata": {},
   "source": [
    "As you can see there is no day of zero count. But obviously nobody is there every single day since 2018. Plotly does not visualize days that are not present in the input data. \n"
   ]
  },
  {
   "cell_type": "code",
   "execution_count": null,
   "metadata": {
    "dotnet_interactive": {
     "language": "fsharp"
    },
    "polyglot_notebook": {
     "kernelName": "fsharp"
    }
   },
   "outputs": [],
   "source": []
  },
  {
   "cell_type": "markdown",
   "metadata": {},
   "source": [
    "The following cell creates a function that takes a string option that defines a user name (if the option type is None, all users are selected) and two dates, that define the beginning and end of the data assessment for visualize the daily drinking behaviour for every day of a week."
   ]
  },
  {
   "cell_type": "code",
   "execution_count": null,
   "metadata": {
    "dotnet_interactive": {
     "language": "fsharp"
    },
    "polyglot_notebook": {
     "kernelName": "fsharp"
    }
   },
   "outputs": [],
   "source": [
    "\n",
    "let plotWeekDistByNameAndDay (name: string option) (fromDate: System.DateTime option) (toDate: System.DateTime option) =\n",
    "\n",
    "    let myAxisRange title (min,max) showtick = LinearAxis.init(Title=Title.init title,Range=StyleParam.Range.MinMax (min,max),Mirror=StyleParam.Mirror.All,Ticks=StyleParam.TickOptions.Inside,ShowGrid=true,ShowLine=true,ShowTickLabels=showtick)\n",
    "\n",
    "    let nameSeq =\n",
    "        if name.IsNone then \n",
    "            if fromDate.IsSome then orders |> Array.filter (fun x -> x.DateTime > fromDate.Value && x.DateTime < toDate.Value) else orders\n",
    "            |> Seq.groupBy (fun x -> x.DateTime.DayOfWeek)\n",
    "            |> Seq.sortBy (fun (key,items) -> key)\n",
    "            |> fun x -> Seq.append (Seq.tail x) (seq [Seq.head x])\n",
    "            //|> Seq.map snd\n",
    "        else \n",
    "            if fromDate.IsSome then orders |> Array.filter (fun x -> x.DateTime > fromDate.Value && x.DateTime < toDate.Value) else orders\n",
    "            |> Seq.filter (fun x -> x.Name = name.Value)\n",
    "            |> Seq.groupBy (fun x -> x.DateTime.DayOfWeek)\n",
    "            |> Seq.sortBy (fun (key,items) -> key)\n",
    "            |> fun x -> Seq.append (Seq.tail x) (seq [Seq.head x])\n",
    "            //|> Seq.map snd\n",
    "\n",
    "    let coffee day (seq: seq<Order>) showtick =\n",
    "        seq\n",
    "        |> Seq.filter (fun x -> x.Category = Category.Coffee)\n",
    "        |> Seq.map (fun x -> DateTime(1970,1,1,x.DateTime.Hour,x.DateTime.Minute,0))                                                                                                                                                                                         \n",
    "        |> (fun x -> Chart.Histogram(x,NBinsX=24,MarkerColor=Color.fromHex \"#4b77ad\") |> Chart.withTemplate ChartTemplates.lightMirrored |> Chart.withXAxis (myAxisRange (if showtick then \"coffee\" else \"\") (-4000000.,83000000.) showtick) |> Chart.withTraceInfo (sprintf \"%s coffee\" day))  \n",
    "    let beverage day (seq: seq<Order>) showtick=                                                                                                                                                                                          \n",
    "        seq                                                                                                                                                                                                                 \n",
    "        |> Seq.filter (fun x-> x.Category = Category.Beverage)                                                                                                                                                                     \n",
    "        |> Seq.map (fun x -> DateTime(1970,1,1,x.DateTime.Hour,x.DateTime.Minute,0))                                                                                                                                                \n",
    "        |> (fun x -> Chart.Histogram(x,NBinsX=24,MarkerColor=Color.fromHex \"#ad504b\") |> Chart.withTemplate ChartTemplates.lightMirrored |> Chart.withXAxis (myAxisRange (if showtick then \"beverage\" else \"\") (-4000000.,83000000.) showtick) |> Chart.withTraceInfo (sprintf \"%s beverage\" day))\n",
    "    let beer day (seq: seq<Order>) showtick=                                                                                                                                                                                              \n",
    "        seq                                                                                                                                                                                                                 \n",
    "        |> Seq.filter (fun x-> x.Category = Category.Beer)                                                         \n",
    "        |> Seq.map (fun x -> DateTime(1970,1,1,x.DateTime.Hour,x.DateTime.Minute,0))                                                                                                                                                \n",
    "        |> (fun x -> Chart.Histogram(x,NBinsX=24,MarkerColor=Color.fromHex \"#4bad81\") |> Chart.withTemplate ChartTemplates.lightMirrored |> Chart.withXAxis (myAxisRange (if showtick then \"beer\" else \"\") (-4000000.,83000000.) showtick) |> Chart.withTraceInfo (sprintf \"%s beer\" day))   \n",
    "    let other day (seq: seq<Order>) showtick=                                                                                                                                                                                              \n",
    "        seq                                                                                                                                                                                                                 \n",
    "        |> Seq.filter (fun x-> x.Category <> Beverage && x.Category <> Coffee && x.Category <> Deposit && x.Category <> Debit && x.Category <> TestStuff)\n",
    "        |> Seq.map (fun x -> DateTime(1970,1,1,x.DateTime.Hour,x.DateTime.Minute,0))                                                                                                                                                \n",
    "        |> (fun x -> Chart.Histogram(x,NBinsX=24,MarkerColor=Color.fromHex \"#999999\") |> Chart.withTemplate ChartTemplates.lightMirrored |> Chart.withXAxis (myAxisRange (if showtick then \"Milk/Food/other\" else \"\") (-4000000.,83000000.) showtick)  |> Chart.withTraceInfo (sprintf \"%s other\" day))   \n",
    "            \n",
    "    nameSeq\n",
    "    |> Seq.mapi (fun i (day,x) -> \n",
    "        let showtick = i=6 \n",
    "        coffee (day.ToString()) x showtick ,\n",
    "        beverage (day.ToString()) x showtick ,\n",
    "        beer (day.ToString()) x showtick )\n",
    "    |> Array.ofSeq\n",
    "    |> Array.unzip3\n",
    "    |> fun (cof,bev,bee) ->\n",
    "        //let showPlot category cat =\n",
    "        //    category\n",
    "            //|> Chart.Stack 1\n",
    "            //|> Chart.withSize(900.,900.) \n",
    "            //|> Chart.withX_Axis (axis (sprintf \"DailyDistribution %s - %s\" cat name))\n",
    "        [|\n",
    "            cof \n",
    "            bev \n",
    "            bee \n",
    "        |]\n",
    "        |> JaggedArray.transpose\n",
    "        |> Array.concat\n",
    "        |> Chart.Grid(7,3)\n",
    "        |> Chart.withSize (1200.,800.)\n",
    "        |> Chart.withTitle (sprintf \"daily order distribution for %s\" (if name.IsNone then \"all\" else name.Value))\n",
    "        |> Chart.withMarginSize(Left=50.,Bottom=50.,Top=50.)\n",
    "        |> fun l -> \n",
    "            l \n",
    "            |> Chart.withDescription [Giraffe.ViewEngine.HtmlElements.rawText \"xAxis=Time, yAxis=count; blue=coffee, red=beverages, green=beer; top=Monday, bottom=Sunday\"]\n",
    "\n",
    "let chartBenediktAllTime = plotWeekDistByNameAndDay (Some \"Benedikt V.\") (None) (None)\n",
    "let chartBenediktLockDown = plotWeekDistByNameAndDay (Some \"Benedikt V.\") (Some (System.DateTime(2020,04,01))) (Some (System.DateTime(2020,07,01)))\n",
    "\n",
    "\n",
    "let chartAllAlltime = plotWeekDistByNameAndDay (None) None None\n",
    "let chartAllUntilLockdown = plotWeekDistByNameAndDay (None) (Some (System.DateTime(2018,04,01))) (Some (System.DateTime(2020,04,01)))\n",
    "let chartAllSinceLockdown = plotWeekDistByNameAndDay (None) (Some (System.DateTime(2020,04,01))) (Some (System.DateTime(2020,07,01)))\n",
    "\n",
    "chartBenediktAllTime"
   ]
  },
  {
   "cell_type": "markdown",
   "metadata": {},
   "source": [
    "Create a histogram that shows all ticks as daytime projected on a single day.\n",
    "\n",
    "Hint: You can set the day of all orders to 01/01/1970, wich in plotly ticks translates to (-4000000.,83000000.)"
   ]
  },
  {
   "cell_type": "code",
   "execution_count": null,
   "metadata": {
    "dotnet_interactive": {
     "language": "fsharp"
    },
    "polyglot_notebook": {
     "kernelName": "fsharp"
    }
   },
   "outputs": [],
   "source": []
  },
  {
   "cell_type": "markdown",
   "metadata": {},
   "source": [
    "Check with for every user which time span was between the first and last drink. Visualize as box plot."
   ]
  },
  {
   "cell_type": "code",
   "execution_count": null,
   "metadata": {
    "dotnet_interactive": {
     "language": "fsharp"
    },
    "polyglot_notebook": {
     "kernelName": "fsharp"
    }
   },
   "outputs": [],
   "source": []
  },
  {
   "cell_type": "markdown",
   "metadata": {},
   "source": [
    "some more functions to visualize personal properties"
   ]
  },
  {
   "cell_type": "code",
   "execution_count": null,
   "metadata": {
    "dotnet_interactive": {
     "language": "fsharp"
    },
    "polyglot_notebook": {
     "kernelName": "fsharp"
    }
   },
   "outputs": [],
   "source": [
    "\n",
    "orders \n",
    "|> Array.groupBy (fun x -> x.Name)\n",
    "|> Array.map (fun (name,orders) -> \n",
    "    let min = orders |> Array.map(fun x -> x.DateTime) |> Array.min\n",
    "    let max = orders |> Array.map(fun x -> x.DateTime) |> Array.max \n",
    "    let employmentDuration = (max - min).Days\n",
    "    let lg,col = \n",
    "        if System.DateTime.Now.AddDays(-60.) < max then \n",
    "            if orders.[0].DateTime.AddDays(60.) > min then \n",
    "                \"total time employed\",Color.fromString \"grey\" \n",
    "            else\n",
    "                \"currently employed\",Color.fromString \"blue\" \n",
    "        else \n",
    "            if orders.[0].DateTime.AddDays(30.) > min then \n",
    "                \"from start, not now\",Color.fromString \"green\" \n",
    "            else\n",
    "                \"valid time span\",Color.fromString \"orange\"\n",
    "    employmentDuration,Chart.Column([name,float employmentDuration / 365.],MarkerColor=col) |> Chart.withTraceInfo(LegendGroup=lg,LegendGroupTitle=Title.init lg)\n",
    "    )\n",
    "|> Array.sortByDescending fst\n",
    "|> Array.map snd\n",
    "|> Chart.combine\n",
    "|> Chart.withTemplate ChartTemplates.lightMirrored\n",
    "|> Chart.withYAxisStyle \"employment duration (years)\"\n",
    "|> Chart.withTitle \"employment duration\"\n",
    "|> Chart.withDescription [(Giraffe.ViewEngine.HtmlElements.rawText \"\"\"<br>grey: total time employed<br>blue: currently employed<br>green: from start, not now<br>orange: valid time span\"\"\")]\n",
    "|> Chart.show\n",
    "\n",
    "\n",
    "\n",
    "\n",
    "orders \n",
    "|> Array.filter (fun x -> x.DateTime.TimeOfDay < (DateTime(2023,1,1,12,0,0)).TimeOfDay)\n",
    "|> Array.groupBy (fun x -> x.Name)\n",
    "|> Array.map (fun (name,orders) -> \n",
    "    let tmp = \n",
    "        orders\n",
    "        |> Array.groupBy (fun o -> o.DateTime.Date)\n",
    "        |> Array.choose (fun (date,items) -> \n",
    "            let min = items |> Array.filter (fun t -> t.Category = Category.Coffee) \n",
    "            if min = [||] then \n",
    "                None \n",
    "            else\n",
    "                let tmp = min |> Array.minBy (fun x -> x.DateTime)\n",
    "                Some (System.DateTime(1900,01,01,tmp.DateTime.TimeOfDay.Hours,tmp.DateTime.TimeOfDay.Minutes,tmp.DateTime.TimeOfDay.Seconds))\n",
    "        )\n",
    "    name,tmp\n",
    "    )\n",
    "|> Array.map (fun (name,x) -> Chart.BoxPlot(Y=x,Name=name))\n",
    "|> Chart.combine\n",
    "|> Chart.withTemplate ChartTemplates.lightMirrored\n",
    "|> Chart.withTitle \"daily first tick distribution\"\n",
    "|> Chart.withYAxisStyle \"first tick\"\n",
    "|> Chart.show"
   ]
  },
  {
   "cell_type": "code",
   "execution_count": null,
   "metadata": {
    "dotnet_interactive": {
     "language": "fsharp"
    },
    "polyglot_notebook": {
     "kernelName": "fsharp"
    }
   },
   "outputs": [],
   "source": []
  }
 ],
 "metadata": {
  "kernelspec": {
   "display_name": ".NET (C#)",
   "language": "C#",
   "name": ".net-csharp"
  },
  "language_info": {
   "name": "polyglot-notebook"
  },
  "polyglot_notebook": {
   "kernelInfo": {
    "defaultKernelName": "csharp",
    "items": [
     {
      "aliases": [],
      "name": "csharp"
     },
     {
      "aliases": [],
      "languageName": "fsharp",
      "name": "fsharp"
     }
    ]
   }
  }
 },
 "nbformat": 4,
 "nbformat_minor": 2
}
