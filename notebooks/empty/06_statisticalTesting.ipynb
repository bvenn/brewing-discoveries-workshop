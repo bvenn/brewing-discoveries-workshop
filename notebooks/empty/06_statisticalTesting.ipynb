{
 "cells": [
  {
   "cell_type": "code",
   "execution_count": null,
   "metadata": {
    "dotnet_interactive": {
     "language": "fsharp"
    },
    "polyglot_notebook": {
     "kernelName": "fsharp"
    }
   },
   "outputs": [],
   "source": [
    "#r \"nuget: FSharp.Stats, 0.5.1-preview.1\"\n",
    "#r \"nuget: Plotly.NET.Interactive, 4.2.1\"\n",
    "#r \"nuget: Cytoscape.NET.Interactive, 0.2.0\"\n",
    "\n",
    "\n",
    "open FSharp.Stats\n",
    "open Plotly.NET\n",
    "open Plotly.NET.StyleParam\n",
    "open Plotly.NET.LayoutObjects\n",
    "open FSharp.Data\n",
    "open Cytoscape.NET\n",
    "open System\n",
    "\n",
    "// use a script to import data in all notebooks > 1\n",
    "#load \"import.fsx\"\n",
    "open Import\n",
    "let orders = Import.orders"
   ]
  },
  {
   "cell_type": "markdown",
   "metadata": {},
   "source": [
    "## Statistical Testing\n",
    "\n",
    "You can use statistical testing to determine whether or not a two samples differ from each other. Several tests exists, each of which tests another property or is suited for a different scenario. For more information on the tests provided by FSharp.Stats please check out the [documentation](https://fslab.org/FSharp.Stats/Testing.html) or the `FSharp.Stats.Testing` module. The result of statistical tests in most cases is a p value, that describes how likely the observed outcome is to occur by chance. A common significance threshold is 0.05. If the p value of the test you performed is below this threshold, your probability to make a type I error (false positive) is below 5 % which for many cases is a sufficient accuracy.\n",
    "\n",
    "The most popular hypothesis test is called t test and it is used to determine if the means of two samples differ significantly. For further insights please visit fslab [t test blog post](https://fslab.org/blog/posts/testing-t-test.html).\n",
    "\n",
    "There are some conditions the samples should satisfy. They should be approximately normal distributed or follow a normal distribution shape. If this condition cannot be satisfied you should use a nonparametric test, as a Wilcoxon signed ranked test. If the variances of the samples you want to test differ a lot, you should use a Welch test instead. This t test alternative can be calculated by setting the `equal variances` parameter in `Testing.TTest.twoSample` to false.\n",
    "\n",
    "Task:\n",
    "Test wether a person drinks significantly more coffee per month than another. As you'll need a sufficient sample size, you can first plot the distribution of different people using histograms, box plots or violin plots.\n",
    "Hint: You can assume the distributions of \"Benedikt V.\" and \"Michelle Porter\" beeing normally distributed.\n"
   ]
  },
  {
   "cell_type": "code",
   "execution_count": null,
   "metadata": {
    "dotnet_interactive": {
     "language": "fsharp"
    },
    "polyglot_notebook": {
     "kernelName": "fsharp"
    }
   },
   "outputs": [],
   "source": []
  },
  {
   "cell_type": "code",
   "execution_count": null,
   "metadata": {
    "dotnet_interactive": {
     "language": "fsharp"
    },
    "polyglot_notebook": {
     "kernelName": "fsharp"
    }
   },
   "outputs": [],
   "source": []
  },
  {
   "cell_type": "code",
   "execution_count": null,
   "metadata": {
    "dotnet_interactive": {
     "language": "fsharp"
    },
    "polyglot_notebook": {
     "kernelName": "fsharp"
    }
   },
   "outputs": [],
   "source": []
  },
  {
   "cell_type": "markdown",
   "metadata": {},
   "source": [
    "## Test II\n",
    "\n",
    "Test if there is a statistically significant change in beer consumption in winter vs summer season.\n",
    "Please note, that people are joining and leaving the CSBar system. Does this even matter?\n",
    "\n"
   ]
  },
  {
   "cell_type": "code",
   "execution_count": null,
   "metadata": {
    "dotnet_interactive": {
     "language": "csharp"
    },
    "polyglot_notebook": {
     "kernelName": "csharp"
    }
   },
   "outputs": [],
   "source": []
  },
  {
   "cell_type": "markdown",
   "metadata": {},
   "source": [
    "## Test III\n",
    "\n",
    "Test if there is a statistically significant change in working day starts in winter vs summer season.\n",
    "Please note, that this test is not suited to make a hard assumption, because the first coffee does not necessarily correspond to the start of the working day. Additionally there may be differences in the employees drinking behaviour depending on the season.\n",
    "\n",
    "Hint: You can transform the daily starting time to floats.\n",
    "\n"
   ]
  },
  {
   "cell_type": "code",
   "execution_count": null,
   "metadata": {
    "dotnet_interactive": {
     "language": "fsharp"
    },
    "polyglot_notebook": {
     "kernelName": "fsharp"
    }
   },
   "outputs": [],
   "source": []
  }
 ],
 "metadata": {
  "kernelspec": {
   "display_name": ".NET (C#)",
   "language": "C#",
   "name": ".net-csharp"
  },
  "language_info": {
   "name": "polyglot-notebook"
  },
  "polyglot_notebook": {
   "kernelInfo": {
    "defaultKernelName": "csharp",
    "items": [
     {
      "aliases": [],
      "name": "csharp"
     },
     {
      "aliases": [],
      "languageName": "fsharp",
      "name": "fsharp"
     }
    ]
   }
  }
 },
 "nbformat": 4,
 "nbformat_minor": 2
}
