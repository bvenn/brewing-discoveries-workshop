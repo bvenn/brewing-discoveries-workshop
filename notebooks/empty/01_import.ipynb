{
 "cells": [
  {
   "cell_type": "markdown",
   "metadata": {},
   "source": [
    "## Introduction \n",
    "\n",
    "This notebook shows how to import data from a csv file. There are several ways to achieve this. \n",
    "\n",
    "Here, we combine two approaches:\n",
    "- 1) import the data as a data frame with `Deedle`\n",
    "- 2) instead of staying in `Deedle` for the whole analysis, we leave the data frame early and model our rows as a collection of Record Types.\n",
    "\n",
    "## NuGet\n",
    "NuGet is the package manager for .NET. #r directives can be copied to `.fsx` scripts or polyglot notebooks to get access to libraries.\n",
    "\n",
    "Packages suffixed with `.Interactive` are usually special packages that "
   ]
  },
  {
   "cell_type": "code",
   "execution_count": null,
   "metadata": {
    "dotnet_interactive": {
     "language": "fsharp"
    },
    "polyglot_notebook": {
     "kernelName": "fsharp"
    }
   },
   "outputs": [],
   "source": []
  },
  {
   "cell_type": "markdown",
   "metadata": {},
   "source": [
    "## Shape of the data\n",
    "\n",
    "Before we can model our data, let's have a look at it. You could do this by opening the file in any text editor, but wen can also do this without leaving our programming environment.\n",
    "\n",
    "Let's parse the CSV file with `Deedle`, a data frame library."
   ]
  },
  {
   "cell_type": "code",
   "execution_count": null,
   "metadata": {
    "dotnet_interactive": {
     "language": "fsharp"
    },
    "polyglot_notebook": {
     "kernelName": "fsharp"
    }
   },
   "outputs": [],
   "source": []
  },
  {
   "cell_type": "markdown",
   "metadata": {},
   "source": [
    "## Type modelling\n",
    "\n",
    "By inspecting the data frame, we can get an idea of the shape of the data. Deedle also infers column types, which becomes quite handy when we want to model our data.\n",
    "\n",
    "Looking at the frame's column headers we see the following:\n",
    "| Header | Type |\n",
    "| --- | --- |\n",
    "| `DateTime` | `string` |\n",
    "| `Name` | `string` |\n",
    "| `Gender` | `string` |\n",
    "| `Product` | `string` |\n",
    "| `Price` | `Decimal` |\n",
    "| `Department` | `string` |\n",
    "| `Category` | `string` |\n",
    "| `Amount` | `int` |\n",
    "\n"
   ]
  },
  {
   "cell_type": "markdown",
   "metadata": {},
   "source": [
    "However, let us additionally model `Category` as a union case. We could theoretically do that for all data that seems to be categorical, but we will focus only on `Category` here. Feel free to do it though!\n",
    "\n",
    "Let's take a look at the distinct values in the `Category` column to get our Union Cases:"
   ]
  },
  {
   "cell_type": "code",
   "execution_count": null,
   "metadata": {
    "dotnet_interactive": {
     "language": "fsharp"
    },
    "polyglot_notebook": {
     "kernelName": "fsharp"
    }
   },
   "outputs": [],
   "source": []
  },
  {
   "cell_type": "code",
   "execution_count": null,
   "metadata": {
    "dotnet_interactive": {
     "language": "fsharp"
    },
    "polyglot_notebook": {
     "kernelName": "fsharp"
    }
   },
   "outputs": [],
   "source": []
  },
  {
   "cell_type": "markdown",
   "metadata": {},
   "source": [
    "Now that we have a good idea about our data, let's transform the rows into records of type `Order`.\n",
    "\n",
    "We recommend to change the `Decimal` row into a float, as we do not need the additional precision provided by `Decimal`.\n"
   ]
  },
  {
   "cell_type": "code",
   "execution_count": null,
   "metadata": {
    "dotnet_interactive": {
     "language": "fsharp"
    },
    "polyglot_notebook": {
     "kernelName": "fsharp"
    }
   },
   "outputs": [],
   "source": []
  },
  {
   "cell_type": "markdown",
   "metadata": {},
   "source": [
    "By mapping throuh the dataframe rows, we can transform each row into a record of type `Order`."
   ]
  },
  {
   "cell_type": "code",
   "execution_count": null,
   "metadata": {
    "dotnet_interactive": {
     "language": "fsharp"
    },
    "polyglot_notebook": {
     "kernelName": "fsharp"
    }
   },
   "outputs": [],
   "source": []
  },
  {
   "cell_type": "markdown",
   "metadata": {},
   "source": [
    "We successfully modeled and imported the data set. Now we can take a dive into the data and try to use data science to reveal interesting properties or surpising discoveries.\n",
    "\n",
    "For a first glance lets check which time frame the data covers:"
   ]
  },
  {
   "cell_type": "code",
   "execution_count": null,
   "metadata": {
    "dotnet_interactive": {
     "language": "fsharp"
    },
    "polyglot_notebook": {
     "kernelName": "fsharp"
    }
   },
   "outputs": [],
   "source": []
  },
  {
   "cell_type": "markdown",
   "metadata": {},
   "source": [
    "How many Persons are involved and how many products are available?"
   ]
  },
  {
   "cell_type": "code",
   "execution_count": null,
   "metadata": {
    "dotnet_interactive": {
     "language": "fsharp"
    },
    "polyglot_notebook": {
     "kernelName": "fsharp"
    }
   },
   "outputs": [],
   "source": []
  },
  {
   "cell_type": "markdown",
   "metadata": {},
   "source": [
    "How many coffees, beers and beverages were ordered?"
   ]
  },
  {
   "cell_type": "code",
   "execution_count": null,
   "metadata": {
    "dotnet_interactive": {
     "language": "fsharp"
    },
    "polyglot_notebook": {
     "kernelName": "fsharp"
    }
   },
   "outputs": [],
   "source": []
  },
  {
   "cell_type": "markdown",
   "metadata": {},
   "source": [
    "What properties do you want to check next?\n",
    "\n",
    "Some inspiration:\n",
    "- total revenue\n",
    "- revenue per product\n",
    "- revenue per category"
   ]
  }
 ],
 "metadata": {
  "kernelspec": {
   "display_name": ".NET (C#)",
   "language": "C#",
   "name": ".net-csharp"
  },
  "language_info": {
   "name": "polyglot-notebook"
  },
  "polyglot_notebook": {
   "kernelInfo": {
    "defaultKernelName": "csharp",
    "items": [
     {
      "aliases": [],
      "name": "csharp"
     },
     {
      "aliases": [],
      "languageName": "fsharp",
      "name": "fsharp"
     }
    ]
   }
  }
 },
 "nbformat": 4,
 "nbformat_minor": 2
}
