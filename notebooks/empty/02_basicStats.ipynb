{
 "cells": [
  {
   "cell_type": "markdown",
   "metadata": {},
   "source": [
    "Duplicated cell for data import"
   ]
  },
  {
   "cell_type": "code",
   "execution_count": null,
   "metadata": {
    "dotnet_interactive": {
     "language": "fsharp"
    },
    "polyglot_notebook": {
     "kernelName": "fsharp"
    }
   },
   "outputs": [],
   "source": [
    "#r \"nuget: FSharp.Stats, 0.5.1-preview.1\"\n",
    "#r \"nuget: Plotly.NET.Interactive, 4.2.1\"\n",
    "#r \"nuget: Cytoscape.NET.Interactive, 0.2.0\"\n",
    "\n",
    "open FSharp.Stats\n",
    "open Plotly.NET\n",
    "open Plotly.NET.StyleParam\n",
    "open Plotly.NET.LayoutObjects\n",
    "open FSharp.Data\n",
    "open Cytoscape.NET\n",
    "open System\n",
    "\n",
    "// use a script to import data in all notebooks > 1\n",
    "#load \"import.fsx\"\n",
    "open Import\n",
    "let orders = Import.orders"
   ]
  },
  {
   "cell_type": "markdown",
   "metadata": {},
   "source": [
    "# Analysis I - basic stats\n",
    "\n",
    "- [FSharp.Stats docs](https://fslab.org/FSharp.Stats/)\n",
    "\n",
    "The first global analysis is the visualization of how many products of the individual categories are logged in a work day (Mo-Fr). Therefore we need a function, that filters the data accordingly, determines the number of logs each day and creates a histogram."
   ]
  },
  {
   "cell_type": "code",
   "execution_count": null,
   "metadata": {
    "dotnet_interactive": {
     "language": "fsharp"
    },
    "polyglot_notebook": {
     "kernelName": "fsharp"
    }
   },
   "outputs": [],
   "source": []
  },
  {
   "cell_type": "markdown",
   "metadata": {},
   "source": [
    "## Global logging heatmap\n",
    "\n",
    "Let's investigate wether we can visually identify global trends if we create `logging traces` for each person.\n",
    "\n",
    "The result should be a heatmap that shows the amount of ticks per day for each person in a row.\n",
    "\n",
    "Let's also add annotation for some significant dates of choice"
   ]
  },
  {
   "cell_type": "code",
   "execution_count": null,
   "metadata": {
    "dotnet_interactive": {
     "language": "fsharp"
    },
    "polyglot_notebook": {
     "kernelName": "fsharp"
    }
   },
   "outputs": [],
   "source": []
  }
 ],
 "metadata": {
  "kernelspec": {
   "display_name": ".NET (C#)",
   "language": "C#",
   "name": ".net-csharp"
  },
  "language_info": {
   "name": "polyglot-notebook"
  },
  "polyglot_notebook": {
   "kernelInfo": {
    "defaultKernelName": "csharp",
    "items": [
     {
      "aliases": [],
      "name": "csharp"
     },
     {
      "aliases": [],
      "languageName": "fsharp",
      "name": "fsharp"
     }
    ]
   }
  }
 },
 "nbformat": 4,
 "nbformat_minor": 2
}
